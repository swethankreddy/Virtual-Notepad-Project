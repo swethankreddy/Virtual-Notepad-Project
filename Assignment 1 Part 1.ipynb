{
 "cells": [
  {
   "cell_type": "code",
   "execution_count": 2,
   "id": "852b5f46-4c72-4f07-b13b-c9e98b481213",
   "metadata": {
    "scrolled": true
   },
   "outputs": [
    {
     "name": "stdin",
     "output_type": "stream",
     "text": [
      "enter a number:  1\n"
     ]
    },
    {
     "name": "stdout",
     "output_type": "stream",
     "text": [
      "number you entered: 1.0\n"
     ]
    }
   ],
   "source": [
    "n = float(input(\"enter a number: \"))\n",
    "print(\"number you entered:\", n)"
   ]
  },
  {
   "cell_type": "code",
   "execution_count": 43,
   "id": "c182a841-c418-41b0-aec5-d113feb7dff0",
   "metadata": {},
   "outputs": [
    {
     "name": "stdin",
     "output_type": "stream",
     "text": [
      " 2\n"
     ]
    },
    {
     "name": "stdout",
     "output_type": "stream",
     "text": [
      "2.0 is an integer\n",
      "2.0 is even\n"
     ]
    }
   ],
   "source": [
    "while True:\n",
    "        n = float(input())\n",
    "        if n==int(n):\n",
    "            break\n",
    "        else:\n",
    "            print(str(float(n)) + \" is not an integer\")\n",
    "if n==int(n):\n",
    "    print(str(float(n)) + \" is an integer\")\n",
    "if n % 2 == 0:\n",
    "    print(str(float(n)) + \" is even\")\n",
    "else:\n",
    "    print(str(float(n)) + \" is odd\")\n"
   ]
  },
  {
   "cell_type": "code",
   "execution_count": 51,
   "id": "a6d49026-53fc-42d7-8fcd-69361f3826f3",
   "metadata": {},
   "outputs": [
    {
     "name": "stdin",
     "output_type": "stream",
     "text": [
      "number of elements of the array:  2\n",
      " 1 2 3 \n"
     ]
    },
    {
     "name": "stdout",
     "output_type": "stream",
     "text": [
      "[1 2]\n"
     ]
    }
   ],
   "source": [
    "import numpy as np\n",
    "n = int(input(\"number of elements of the array: \"))\n",
    "arr = np.array(input().split()[:n], dtype=int)\n",
    "print(arr)"
   ]
  },
  {
   "cell_type": "code",
   "execution_count": 33,
   "id": "59ab99bc-122c-4345-b1b5-fc01c32e4de5",
   "metadata": {},
   "outputs": [
    {
     "name": "stdout",
     "output_type": "stream",
     "text": [
      "Original matrix: \n",
      "[[  90   69    0   -1   -3]\n",
      " [   4    2    3    7  406]\n",
      " [  11  -12   -3   43   33]\n",
      " [   7    7   -1   -9 -100]\n",
      " [ 100   62    2    1   11]]\n",
      "____________________________________________________________________________________________________ \n",
      "\n",
      "Original matrix:\n",
      "[[  90   69    0   -1   -3]\n",
      " [   4    2    3    7  406]\n",
      " [  11  -12   -3   43   33]\n",
      " [   7    7   -1   -9 -100]\n",
      " [ 100   62    2    1   11]]\n",
      "Adjusting Row 1\n",
      "Swapped elements 90 and 90 in row 1 to make it diagonally dominant.\n",
      "[[  90   69    0   -1   -3]\n",
      " [   4    2    3    7  406]\n",
      " [  11  -12   -3   43   33]\n",
      " [   7    7   -1   -9 -100]\n",
      " [ 100   62    2    1   11]]\n",
      "Adjusting Row 2\n",
      "Swapped elements 2 and 406 in row 2 to make it diagonally dominant.\n",
      "[[  90   69    0   -1   -3]\n",
      " [   4  406    3    7    2]\n",
      " [  11  -12   -3   43   33]\n",
      " [   7    7   -1   -9 -100]\n",
      " [ 100   62    2    1   11]]\n",
      "Adjusting Row 3\n",
      "Swapped elements -3 and 43 in row 3 to make it diagonally dominant.\n",
      "[[  90   69    0   -1   -3]\n",
      " [   4  406    3    7    2]\n",
      " [  11  -12   43   -3   33]\n",
      " [   7    7   -1   -9 -100]\n",
      " [ 100   62    2    1   11]]\n",
      "Adjusting Row 4\n",
      "Swapped elements -9 and -100 in row 4 to make it diagonally dominant.\n",
      "[[  90   69    0   -1   -3]\n",
      " [   4  406    3    7    2]\n",
      " [  11  -12   43   -3   33]\n",
      " [   7    7   -1 -100   -9]\n",
      " [ 100   62    2    1   11]]\n",
      "Adjusting Row 5\n",
      "Swapped elements 11 and 100 in row 5 to make it diagonally dominant.\n",
      "[[  90   69    0   -1   -3]\n",
      " [   4  406    3    7    2]\n",
      " [  11  -12   43   -3   33]\n",
      " [   7    7   -1 -100   -9]\n",
      " [  11   62    2    1  100]]\n",
      "The matrix is now diagonally dominant.\n",
      "____________________________________________________________________________________________________ \n",
      "\n",
      "Matrix obtained is: \n",
      "[[  90   69    0   -1   -3]\n",
      " [   4  406    3    7    2]\n",
      " [  11  -12   43   -3   33]\n",
      " [   7    7   -1 -100   -9]\n",
      " [  11   62    2    1  100]]\n"
     ]
    }
   ],
   "source": [
    "def diagonallyDominant(arr, verbose=False):\n",
    "    n = arr.shape[0]\n",
    "    if verbose:\n",
    "        print(\"Original matrix:\")\n",
    "        print(arr)\n",
    "    \n",
    "    for i in range(n):\n",
    "        if verbose:\n",
    "            print(\"Adjusting Row \" + str(int(i+1)))\n",
    "        \n",
    "        diagonalelement = arr[i, i]\n",
    "        maxabselement = np.max(np.abs(arr[i, :]))\n",
    "        \n",
    "        if np.abs(diagonalelement) != maxabselement:\n",
    "            maxindex = np.argmax(np.abs(arr[i, :]))\n",
    "            arr[i, i], arr[i, maxindex] = arr[i, maxindex], arr[i, i]\n",
    "        \n",
    "        if verbose:\n",
    "            print(f\"Swapped elements {diagonalelement} and {arr[i, i]} in row {i+1} to make it diagonally dominant.\")\n",
    "            print(arr)\n",
    "    \n",
    "    if verbose:\n",
    "        print(\"The matrix is now diagonally dominant.\")\n",
    "    \n",
    "    return arr\n",
    "\n",
    "arr = np.array([\n",
    "    [  90,   69,    0,   -1,   -3],\n",
    "    [   4,    2,    3,    7,  406],\n",
    "    [  11,  -12,   -3,   43,   33],\n",
    "    [   7,    7,   -1,   -9, -100],\n",
    "    [ 100,   62,    2,    1,   11]\n",
    "])\n",
    "\n",
    "\n",
    "print(\"Original matrix: \")\n",
    "print(arr)\n",
    "print(\"_\"*100,\"\\n\")\n",
    "\n",
    "A = diagonallyDominant(arr, verbose=True)\n",
    "print(\"_\"*100,\"\\n\")\n",
    "\n",
    "print(\"Matrix obtained is: \")\n",
    "print(A)"
   ]
  },
  {
   "cell_type": "code",
   "execution_count": 36,
   "id": "71f9453b-c539-4ea2-a206-c9f66b280285",
   "metadata": {},
   "outputs": [
    {
     "name": "stdout",
     "output_type": "stream",
     "text": [
      "[[  90   69    0   -1   -3]\n",
      " [   4  406    3    7    2]\n",
      " [  11  -12   43   -3   33]\n",
      " [   7    7   -1 -100   -9]\n",
      " [  11   62    2    1  100]] \n",
      " is not diagonally dominant\n"
     ]
    }
   ],
   "source": [
    "row_sum = 0\n",
    "cnt = 0\n",
    "arr = A\n",
    "n = arr.shape[0]\n",
    "for i in range(n):\n",
    "    row_sum = np.sum(np.abs(A[i, :])) - np.abs(A[i, i])  \n",
    "    if np.abs(A[i, i]) >= row_sum:\n",
    "        cnt += 1\n",
    "\n",
    "if cnt == n:\n",
    "    print(f\"{A} is diagonally dominant\")\n",
    "else:\n",
    "    print(f\"{A} \\n is not diagonally dominant\")"
   ]
  },
  {
   "cell_type": "code",
   "execution_count": 37,
   "id": "632fcd75-e3be-4f0a-a30d-2f9faa7e97c3",
   "metadata": {},
   "outputs": [
    {
     "name": "stdout",
     "output_type": "stream",
     "text": [
      "[[  90   69    0   -1   -3]\n",
      " [   4  406    3    7    2]\n",
      " [  11  -12   43   -3   33]\n",
      " [   7    7   -1 -100   -9]\n",
      " [  11   62    2    1  100]] \n",
      " is not diagonally dominant\n",
      "The following rows do not satisfy the diagonally dominant condition:\n",
      "Row 3: [ 11 -12  43  -3  33]\n"
     ]
    }
   ],
   "source": [
    "problematic_rows = []\n",
    "\n",
    "for i in range(n):\n",
    "    row_sum = np.sum(np.abs(A[i, :])) - np.abs(A[i, i])\n",
    "    if np.abs(A[i, i]) >= row_sum:\n",
    "        cnt += 1\n",
    "    else:\n",
    "        problematic_rows.append(i)\n",
    "\n",
    "if cnt == n:\n",
    "    print(f\"{A} is diagonally dominant\")\n",
    "else:\n",
    "    print(f\"{A} \\n is not diagonally dominant\")\n",
    "    print(\"The following rows do not satisfy the diagonally dominant condition:\")\n",
    "    for row_index in problematic_rows:\n",
    "        print(f\"Row {row_index + 1}: {A[row_index]}\")"
   ]
  },
  {
   "cell_type": "code",
   "execution_count": 44,
   "id": "4a036556-99e1-41c0-98db-194536c7e9c0",
   "metadata": {},
   "outputs": [
    {
     "data": {
      "image/png": "[encoded data removed]",
      "text/plain": [
       "<Figure size 1000x600 with 1 Axes>"
      ]
     },
     "metadata": {},
     "output_type": "display_data"
    },
    {
     "data": {
      "image/png": "[encoded data removed]",
      "text/plain": [
       "<Figure size 1000x600 with 1 Axes>"
      ]
     },
     "metadata": {},
     "output_type": "display_data"
    }
   ],
   "source": [
    "from matplotlib import pyplot as plt\n",
    "\n",
    "x = np.linspace(-100, 100, 10000)\n",
    "\n",
    "y_relu = []\n",
    "y_sigmoid = []\n",
    "y_tanh = []\n",
    "\n",
    "for i in range(len(x)):\n",
    "    y_relu.append(max(0, x[i]))\n",
    "    y_sigmoid.append(1 / (1+ np.exp(-x[i])))\n",
    "    y_tanh.append(np.tanh(x[i]))\n",
    "y_sigmoid = np.array(y_sigmoid)\n",
    "y_tanh = np.array(y_tanh)\n",
    "\n",
    "plt.figure(figsize=(10, 6))\n",
    "plt.plot(x, y_relu, color='blue')\n",
    "plt.show()\n",
    "\n",
    "\n",
    "plt.figure(figsize=(10, 6))\n",
    "plt.plot(x, y_sigmoid, color='red')\n",
    "plt.plot(x, y_tanh, color='green')\n",
    "plt.show()\n"
   ]
  },
  {
   "cell_type": "code",
   "execution_count": 31,
   "id": "ed615db4-9271-46ce-8cfb-a01a2f120e1e",
   "metadata": {},
   "outputs": [
    {
     "data": {
      "image/png": "[encoded data removed]",
      "text/plain": [
       "<Figure size 1000x600 with 1 Axes>"
      ]
     },
     "metadata": {},
     "output_type": "display_data"
    }
   ],
   "source": [
    "x = []\n",
    "y_relu = []\n",
    "y_sigmoid = []\n",
    "y_tanh = []\n",
    "for i in range(len(A)):\n",
    "    diagonal_element = A[i, i]\n",
    "    x.append(diagonal_element)\n",
    "    y_relu.append(max(0, diagonal_element))\n",
    "    y_sigmoid.append(1 / (1 + np.exp(-diagonal_element)))\n",
    "    y_tanh.append(np.tanh(diagonal_element))\n",
    "    \n",
    "plt.figure(figsize=(10, 6))\n",
    "plt.scatter(x, y_relu, label='ReLU', color='blue', marker='o')\n",
    "plt.scatter(x, y_sigmoid, label='Sigmoid', color='red', marker='*')\n",
    "plt.scatter(x, y_tanh, label='Tanh', color='green', marker='+')\n",
    "plt.show()\n",
    "\n"
   ]
  },
  {
   "cell_type": "code",
   "execution_count": 47,
   "id": "b8b33921-9255-46a6-921e-7ae5b442eeac",
   "metadata": {},
   "outputs": [
    {
     "name": "stdout",
     "output_type": "stream",
     "text": [
      "Softmax of the diagonal elements of the matrix:\n",
      " [5.793536115188646e-138, 1.0, 2.244414517195439e-158, 1.7660059276035744e-220, 1.276111250721801e-133]\n"
     ]
    }
   ],
   "source": [
    "def softmax(arr):\n",
    "    n = arr.shape[0]\n",
    "    dd = []\n",
    "    \n",
    "    diag_elements = np.diag(arr)\n",
    "    exp_elements = np.exp(diag_elements)\n",
    "    softmax_elements = exp_elements / np.sum(exp_elements)\n",
    "    \n",
    "    for i in range(n):\n",
    "        dd.append(softmax_elements[i])\n",
    "    \n",
    "    return dd\n",
    "\n",
    "print(\"Softmax of the diagonal elements of the matrix:\\n\", softmax(arr))"
   ]
  },
  {
   "cell_type": "code",
   "execution_count": 5,
   "id": "7021427d-9638-43be-b738-fffe8b7288b9",
   "metadata": {},
   "outputs": [
    {
     "data": {
      "image/png": "[encoded data removed]",
      "text/plain": [
       "<Figure size 640x480 with 1 Axes>"
      ]
     },
     "metadata": {},
     "output_type": "display_data"
    }
   ],
   "source": [
    "from matplotlib import pyplot as plt\n",
    "y = softmax(arr)\n",
    "x=np.diag(arr)\n",
    "plt.scatter(y,x)\n",
    "plt.show()"
   ]
  },
  {
   "cell_type": "code",
   "execution_count": 8,
   "id": "c9e9a24b-7bf5-4e03-9130-617b87fead0c",
   "metadata": {},
   "outputs": [
    {
     "name": "stdout",
     "output_type": "stream",
     "text": [
      "90 : Not a max element in all diagonal elements\n",
      "406 : Max element in all diagonal elements\n",
      "43 : Not a max element in all diagonal elements\n",
      "-100 : Not a max element in all diagonal elements\n",
      "100 : Not a max element in all diagonal elements\n"
     ]
    }
   ],
   "source": [
    "import numpy as np\n",
    "\n",
    "def softmax(arr):\n",
    "    n = arr.shape[0]\n",
    "    dd = np.zeros(n)\n",
    "    \n",
    "    for i in range(n):\n",
    "        dd[i] = np.exp(arr[i,i]) / np.sum(np.exp(np.diag(arr)))\n",
    "    \n",
    "    return dd\n",
    "\n",
    "diagonalelements = np.diag(arr)\n",
    "softmax_diagonal = softmax(arr)\n",
    "\n",
    "maxindex = np.argmax(diagonalelements)\n",
    "max_softmax_index = np.argmax(softmax_diagonal)\n",
    "\n",
    "maxelement = diagonalelements[maxindex]\n",
    "\n",
    "for i in range(len(diagonalelements)):\n",
    "    if i == maxindex:\n",
    "        print(f\"{maxelement} : Max element in all diagonal elements\")\n",
    "    else:\n",
    "        print(f\"{diagonalelements[i]} : Not a max element in all diagonal elements\")"
   ]
  },
  {
   "cell_type": "code",
   "execution_count": null,
   "id": "5c492184-4364-4110-89f5-c6b7dacded5b",
   "metadata": {},
   "outputs": [],
   "source": []
  }
 ],
 "metadata": {
  "kernelspec": {
   "display_name": "Python 3 (ipykernel)",
   "language": "python",
   "name": "python3"
  },
  "language_info": {
   "codemirror_mode": {
    "name": "ipython",
    "version": 3
   },
   "file_extension": ".py",
   "mimetype": "text/x-python",
   "name": "python",
   "nbconvert_exporter": "python",
   "pygments_lexer": "ipython3",
   "version": "3.12.2"
  }
 },
 "nbformat": 4,
 "nbformat_minor": 5
}
